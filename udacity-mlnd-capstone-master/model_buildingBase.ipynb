{
 "cells": [
  {
   "cell_type": "markdown",
   "metadata": {},
   "source": [
    "# Model Building"
   ]
  },
  {
   "cell_type": "code",
   "execution_count": 1,
   "metadata": {},
   "outputs": [
    {
     "name": "stderr",
     "output_type": "stream",
     "text": [
      "Using TensorFlow backend.\n"
     ]
    }
   ],
   "source": [
    "import pandas as pd\n",
    "import numpy as np\n",
    "import matplotlib.pyplot as plt\n",
    "%matplotlib inline\n",
    "import warnings\n",
    "warnings.filterwarnings('ignore')\n",
    "\n",
    "import keras\n",
    "from wordcloud import WordCloud\n",
    "from keras.callbacks import Callback, EarlyStopping, ModelCheckpoint\n",
    "from sklearn.model_selection import train_test_split\n",
    "from sklearn.metrics import mean_squared_error\n",
    "from model_creation import buildNN\n",
    "from IPython.display import SVG\n",
    "from keras.utils.vis_utils import model_to_dot"
   ]
  },
  {
   "cell_type": "markdown",
   "metadata": {},
   "source": [
    "## Data Loading"
   ]
  },
  {
   "cell_type": "code",
   "execution_count": 3,
   "metadata": {},
   "outputs": [],
   "source": [
    "# Reading rating file\n",
    "dataset = pd.read_csv(\"games_data.csv\")\n",
    "#Convert user and game ids from int to categories\n",
    "dataset['user_id'] = dataset['userID'].astype('category').cat.codes.values\n",
    "dataset['game_id'] = dataset['gameID'].astype('category').cat.codes.values"
   ]
  },
  {
   "cell_type": "code",
   "execution_count": 4,
   "metadata": {},
   "outputs": [],
   "source": [
    "train, test = train_test_split(dataset, test_size=0.2, random_state=10)"
   ]
  },
  {
   "cell_type": "markdown",
   "metadata": {},
   "source": [
    "## Building Model"
   ]
  },
  {
   "cell_type": "code",
   "execution_count": 5,
   "metadata": {},
   "outputs": [
    {
     "name": "stdout",
     "output_type": "stream",
     "text": [
      "__________________________________________________________________________________________________\n",
      "Layer (type)                    Output Shape         Param #     Connected to                     \n",
      "==================================================================================================\n",
      "Item (InputLayer)               (None, 1)            0                                            \n",
      "__________________________________________________________________________________________________\n",
      "User (InputLayer)               (None, 1)            0                                            \n",
      "__________________________________________________________________________________________________\n",
      "Game-Embedding (Embedding)      (None, 1, 500)       1800500     Item[0][0]                       \n",
      "__________________________________________________________________________________________________\n",
      "User-Embedding (Embedding)      (None, 1, 500)       5675500     User[0][0]                       \n",
      "__________________________________________________________________________________________________\n",
      "FlattenGames (Flatten)          (None, 500)          0           Game-Embedding[0][0]             \n",
      "__________________________________________________________________________________________________\n",
      "FlattenUsers (Flatten)          (None, 500)          0           User-Embedding[0][0]             \n",
      "__________________________________________________________________________________________________\n",
      "DotProduct (Dot)                (None, 1)            0           FlattenGames[0][0]               \n",
      "                                                                 FlattenUsers[0][0]               \n",
      "==================================================================================================\n",
      "Total params: 7,476,000\n",
      "Trainable params: 7,476,000\n",
      "Non-trainable params: 0\n",
      "__________________________________________________________________________________________________\n"
     ]
    }
   ],
   "source": [
    "n_users, n_games = len(dataset.user_id.unique()), len(dataset.game_id.unique())\n",
    "n_latent_factors = 500\n",
    "\n",
    "model=buildNN(n_users, n_games, n_latent_factors)\n",
    "\n",
    "model.summary()"
   ]
  },
  {
   "cell_type": "code",
   "execution_count": 6,
   "metadata": {},
   "outputs": [
    {
     "data": {
      "image/svg+xml": [
       "<svg height=\"264pt\" viewBox=\"0.00 0.00 394.00 264.00\" width=\"394pt\" xmlns=\"http://www.w3.org/2000/svg\" xmlns:xlink=\"http://www.w3.org/1999/xlink\">\n",
       "<g class=\"graph\" id=\"graph0\" transform=\"scale(1 1) rotate(0) translate(4 260)\">\n",
       "<title>G</title>\n",
       "<polygon fill=\"#ffffff\" points=\"-4,4 -4,-260 390,-260 390,4 -4,4\" stroke=\"transparent\"/>\n",
       "<!-- 139663608140184 -->\n",
       "<g class=\"node\" id=\"node1\">\n",
       "<title>139663608140184</title>\n",
       "<polygon fill=\"none\" points=\"39,-219.5 39,-255.5 149,-255.5 149,-219.5 39,-219.5\" stroke=\"#000000\"/>\n",
       "<text fill=\"#000000\" font-family=\"Times,serif\" font-size=\"14.00\" text-anchor=\"middle\" x=\"94\" y=\"-233.8\">Item: InputLayer</text>\n",
       "</g>\n",
       "<!-- 139663570143888 -->\n",
       "<g class=\"node\" id=\"node3\">\n",
       "<title>139663570143888</title>\n",
       "<polygon fill=\"none\" points=\"0,-146.5 0,-182.5 188,-182.5 188,-146.5 0,-146.5\" stroke=\"#000000\"/>\n",
       "<text fill=\"#000000\" font-family=\"Times,serif\" font-size=\"14.00\" text-anchor=\"middle\" x=\"94\" y=\"-160.8\">Game-Embedding: Embedding</text>\n",
       "</g>\n",
       "<!-- 139663608140184&#45;&gt;139663570143888 -->\n",
       "<g class=\"edge\" id=\"edge1\">\n",
       "<title>139663608140184-&gt;139663570143888</title>\n",
       "<path d=\"M94,-219.4551C94,-211.3828 94,-201.6764 94,-192.6817\" fill=\"none\" stroke=\"#000000\"/>\n",
       "<polygon fill=\"#000000\" points=\"97.5001,-192.5903 94,-182.5904 90.5001,-192.5904 97.5001,-192.5903\" stroke=\"#000000\"/>\n",
       "</g>\n",
       "<!-- 139663570143944 -->\n",
       "<g class=\"node\" id=\"node2\">\n",
       "<title>139663570143944</title>\n",
       "<polygon fill=\"none\" points=\"241,-219.5 241,-255.5 351,-255.5 351,-219.5 241,-219.5\" stroke=\"#000000\"/>\n",
       "<text fill=\"#000000\" font-family=\"Times,serif\" font-size=\"14.00\" text-anchor=\"middle\" x=\"296\" y=\"-233.8\">User: InputLayer</text>\n",
       "</g>\n",
       "<!-- 139663570144448 -->\n",
       "<g class=\"node\" id=\"node4\">\n",
       "<title>139663570144448</title>\n",
       "<polygon fill=\"none\" points=\"206,-146.5 206,-182.5 386,-182.5 386,-146.5 206,-146.5\" stroke=\"#000000\"/>\n",
       "<text fill=\"#000000\" font-family=\"Times,serif\" font-size=\"14.00\" text-anchor=\"middle\" x=\"296\" y=\"-160.8\">User-Embedding: Embedding</text>\n",
       "</g>\n",
       "<!-- 139663570143944&#45;&gt;139663570144448 -->\n",
       "<g class=\"edge\" id=\"edge2\">\n",
       "<title>139663570143944-&gt;139663570144448</title>\n",
       "<path d=\"M296,-219.4551C296,-211.3828 296,-201.6764 296,-192.6817\" fill=\"none\" stroke=\"#000000\"/>\n",
       "<polygon fill=\"#000000\" points=\"299.5001,-192.5903 296,-182.5904 292.5001,-192.5904 299.5001,-192.5903\" stroke=\"#000000\"/>\n",
       "</g>\n",
       "<!-- 139663570143048 -->\n",
       "<g class=\"node\" id=\"node5\">\n",
       "<title>139663570143048</title>\n",
       "<polygon fill=\"none\" points=\"50.5,-73.5 50.5,-109.5 187.5,-109.5 187.5,-73.5 50.5,-73.5\" stroke=\"#000000\"/>\n",
       "<text fill=\"#000000\" font-family=\"Times,serif\" font-size=\"14.00\" text-anchor=\"middle\" x=\"119\" y=\"-87.8\">FlattenGames: Flatten</text>\n",
       "</g>\n",
       "<!-- 139663570143888&#45;&gt;139663570143048 -->\n",
       "<g class=\"edge\" id=\"edge3\">\n",
       "<title>139663570143888-&gt;139663570143048</title>\n",
       "<path d=\"M100.1798,-146.4551C103.0043,-138.2074 106.4132,-128.2536 109.5493,-119.0962\" fill=\"none\" stroke=\"#000000\"/>\n",
       "<polygon fill=\"#000000\" points=\"112.8759,-120.185 112.8047,-109.5904 106.2535,-117.917 112.8759,-120.185\" stroke=\"#000000\"/>\n",
       "</g>\n",
       "<!-- 139663570144784 -->\n",
       "<g class=\"node\" id=\"node6\">\n",
       "<title>139663570144784</title>\n",
       "<polygon fill=\"none\" points=\"218,-73.5 218,-109.5 348,-109.5 348,-73.5 218,-73.5\" stroke=\"#000000\"/>\n",
       "<text fill=\"#000000\" font-family=\"Times,serif\" font-size=\"14.00\" text-anchor=\"middle\" x=\"283\" y=\"-87.8\">FlattenUsers: Flatten</text>\n",
       "</g>\n",
       "<!-- 139663570144448&#45;&gt;139663570144784 -->\n",
       "<g class=\"edge\" id=\"edge4\">\n",
       "<title>139663570144448-&gt;139663570144784</title>\n",
       "<path d=\"M292.7865,-146.4551C291.349,-138.3828 289.6205,-128.6764 288.0187,-119.6817\" fill=\"none\" stroke=\"#000000\"/>\n",
       "<polygon fill=\"#000000\" points=\"291.4207,-118.8218 286.2216,-109.5904 284.5291,-120.0491 291.4207,-118.8218\" stroke=\"#000000\"/>\n",
       "</g>\n",
       "<!-- 139663569496272 -->\n",
       "<g class=\"node\" id=\"node7\">\n",
       "<title>139663569496272</title>\n",
       "<polygon fill=\"none\" points=\"141.5,-.5 141.5,-36.5 248.5,-36.5 248.5,-.5 141.5,-.5\" stroke=\"#000000\"/>\n",
       "<text fill=\"#000000\" font-family=\"Times,serif\" font-size=\"14.00\" text-anchor=\"middle\" x=\"195\" y=\"-14.8\">DotProduct: Dot</text>\n",
       "</g>\n",
       "<!-- 139663570143048&#45;&gt;139663569496272 -->\n",
       "<g class=\"edge\" id=\"edge5\">\n",
       "<title>139663570143048-&gt;139663569496272</title>\n",
       "<path d=\"M137.7865,-73.4551C147.1039,-64.5054 158.5127,-53.547 168.6843,-43.7769\" fill=\"none\" stroke=\"#000000\"/>\n",
       "<polygon fill=\"#000000\" points=\"171.3788,-46.0419 176.1662,-36.5904 166.5296,-40.9935 171.3788,-46.0419\" stroke=\"#000000\"/>\n",
       "</g>\n",
       "<!-- 139663570144784&#45;&gt;139663569496272 -->\n",
       "<g class=\"edge\" id=\"edge6\">\n",
       "<title>139663570144784-&gt;139663569496272</title>\n",
       "<path d=\"M261.2472,-73.4551C250.247,-64.3299 236.7294,-53.1165 224.7797,-43.2036\" fill=\"none\" stroke=\"#000000\"/>\n",
       "<polygon fill=\"#000000\" points=\"226.7387,-40.2812 216.8076,-36.5904 222.2695,-45.6688 226.7387,-40.2812\" stroke=\"#000000\"/>\n",
       "</g>\n",
       "</g>\n",
       "</svg>"
      ],
      "text/plain": [
       "<IPython.core.display.SVG object>"
      ]
     },
     "execution_count": 6,
     "metadata": {},
     "output_type": "execute_result"
    }
   ],
   "source": [
    "SVG(model_to_dot(model).create(prog='dot', format='svg'))"
   ]
  },
  {
   "cell_type": "markdown",
   "metadata": {},
   "source": [
    "### Training Model"
   ]
  },
  {
   "cell_type": "code",
   "execution_count": 5,
   "metadata": {},
   "outputs": [
    {
     "name": "stdout",
     "output_type": "stream",
     "text": [
      "Train on 45112 samples, validate on 11279 samples\n",
      "Epoch 1/30\n",
      " - 37s - loss: 3.1984 - val_loss: 3.2010\n",
      "Epoch 2/30\n",
      " - 22s - loss: 3.0837 - val_loss: 3.0313\n",
      "Epoch 3/30\n",
      " - 22s - loss: 2.6305 - val_loss: 2.5174\n",
      "Epoch 4/30\n",
      " - 22s - loss: 2.0587 - val_loss: 2.1281\n",
      "Epoch 5/30\n",
      " - 22s - loss: 1.6433 - val_loss: 1.8648\n",
      "Epoch 6/30\n",
      " - 22s - loss: 1.3536 - val_loss: 1.7009\n",
      "Epoch 7/30\n",
      " - 22s - loss: 1.1511 - val_loss: 1.5940\n",
      "Epoch 8/30\n",
      " - 22s - loss: 1.0014 - val_loss: 1.5190\n",
      "Epoch 9/30\n",
      " - 22s - loss: 0.8849 - val_loss: 1.4647\n",
      "Epoch 10/30\n",
      " - 23s - loss: 0.7889 - val_loss: 1.4264\n",
      "Epoch 11/30\n",
      " - 23s - loss: 0.7052 - val_loss: 1.3949\n",
      "Epoch 12/30\n",
      " - 23s - loss: 0.6317 - val_loss: 1.3758\n",
      "Epoch 13/30\n",
      " - 24s - loss: 0.5664 - val_loss: 1.3569\n",
      "Epoch 14/30\n",
      " - 24s - loss: 0.5091 - val_loss: 1.3464\n",
      "Epoch 15/30\n",
      " - 24s - loss: 0.4569 - val_loss: 1.3340\n",
      "Epoch 16/30\n",
      " - 24s - loss: 0.4113 - val_loss: 1.3274\n",
      "Epoch 17/30\n",
      " - 24s - loss: 0.3707 - val_loss: 1.3218\n",
      "Epoch 18/30\n",
      " - 24s - loss: 0.3347 - val_loss: 1.3159\n",
      "Epoch 19/30\n",
      " - 25s - loss: 0.3035 - val_loss: 1.3105\n",
      "Epoch 20/30\n",
      " - 25s - loss: 0.2755 - val_loss: 1.3066\n",
      "Epoch 21/30\n",
      " - 25s - loss: 0.2517 - val_loss: 1.3033\n",
      "Epoch 22/30\n",
      " - 25s - loss: 0.2296 - val_loss: 1.3004\n",
      "Epoch 23/30\n",
      " - 26s - loss: 0.2128 - val_loss: 1.2977\n",
      "Epoch 24/30\n",
      " - 26s - loss: 0.1945 - val_loss: 1.2967\n",
      "Epoch 25/30\n",
      " - 26s - loss: 0.1821 - val_loss: 1.2911\n",
      "Epoch 26/30\n",
      " - 26s - loss: 0.1693 - val_loss: 1.2921\n",
      "Epoch 27/30\n",
      " - 28s - loss: 0.1593 - val_loss: 1.2880\n",
      "Epoch 28/30\n",
      " - 26s - loss: 0.1494 - val_loss: 1.2875\n",
      "Epoch 29/30\n",
      " - 26s - loss: 0.1419 - val_loss: 1.2862\n",
      "Epoch 30/30\n",
      " - 28s - loss: 0.1351 - val_loss: 1.2839\n",
      "Minimum RMSE at epoch 30 = 1.2839\n"
     ]
    },
    {
     "data": {
      "text/plain": [
       "Text(0,0.5,'Train Error')"
      ]
     },
     "execution_count": 5,
     "metadata": {},
     "output_type": "execute_result"
    },
    {
     "data": {
      "image/png": "[encoded data removed]",
      "text/plain": [
       "<Figure size 432x288 with 1 Axes>"
      ]
     },
     "metadata": {
      "needs_background": "light"
     },
     "output_type": "display_data"
    }
   ],
   "source": [
    "#Callbacks monitor the validation loss# Callb \n",
    "#Save the model weights each time the validation loss has improved\n",
    "callbacks = [EarlyStopping('val_loss', patience=2), \n",
    "           ModelCheckpoint('weights.h5', save_best_only=True)]\n",
    "\n",
    "\n",
    "history = model.fit([train.user_id, train.game_id], train.rating, epochs=30, validation_split=0.2, verbose=2, callbacks=callbacks)\n",
    "\n",
    "#Show the best validation MAE\n",
    "min_val_loss, idx = min((val, idx) for (idx, val) in enumerate(history.history['val_loss']))\n",
    "print ('Minimum RMSE at epoch', '{:d}'.format(idx+1), '=', '{:.4f}'.format(abs(min_val_loss)))\n",
    "\n",
    "pd.Series(history.history['loss']).plot(logy=True)\n",
    "plt.xlabel(\"Epoch\")\n",
    "plt.ylabel(\"Train Error\")"
   ]
  },
  {
   "cell_type": "code",
   "execution_count": 6,
   "metadata": {},
   "outputs": [
    {
     "data": {
      "text/plain": [
       "1.7101568530459446"
      ]
     },
     "execution_count": 6,
     "metadata": {},
     "output_type": "execute_result"
    }
   ],
   "source": [
    "model.load_weights('weights.h5')\n",
    "y_hat = np.round(model.predict([test.user_id, test.game_id]), 0)\n",
    "y_true = test.rating\n",
    "np.sqrt(mean_squared_error(y_true, y_hat))"
   ]
  }
 ],
 "metadata": {
  "kernelspec": {
   "display_name": "Python 3",
   "language": "python",
   "name": "python3"
  },
  "language_info": {
   "codemirror_mode": {
    "name": "ipython",
    "version": 3
   },
   "file_extension": ".py",
   "mimetype": "text/x-python",
   "name": "python",
   "nbconvert_exporter": "python",
   "pygments_lexer": "ipython3",
   "version": "3.6.6"
  }
 },
 "nbformat": 4,
 "nbformat_minor": 2
}
